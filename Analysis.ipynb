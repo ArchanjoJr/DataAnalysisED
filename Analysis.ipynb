{
 "cells": [
  {
   "cell_type": "code",
   "execution_count": 4,
   "metadata": {},
   "outputs": [],
   "source": [
    "import pandas as pd\n",
    "import numpy as np\n",
    "import matplotlib as plt\n",
    "%matplotlib inline"
   ]
  },
  {
   "cell_type": "code",
   "execution_count": 25,
   "metadata": {},
   "outputs": [
    {
     "name": "stdout",
     "output_type": "stream",
     "text": [
      "nao e acao\n",
      "nao e acao\n",
      "nao e acao\n",
      "nao e acao\n",
      "nao e acao\n",
      "nao e acao\n",
      "nao e acao\n",
      "nao e acao\n",
      "nao e acao\n",
      "nao e acao\n",
      "nao e acao\n",
      "nao e acao\n",
      "nao e acao\n",
      "nao e acao\n",
      "nao e acao\n",
      "nao e acao\n",
      "Action\n",
      "Action\n",
      "nao e acao\n",
      "nao e acao\n",
      "nao e acao\n",
      "nao e acao\n",
      "nao e acao\n",
      "Action\n",
      "Action\n"
     ]
    }
   ],
   "source": [
    "dados = pd.read_csv('vgsales.csv')\n",
    "genre = dados['Genre'].head(25)\n",
    "for i in genre:\n",
    "    if(i == 'Action'): print(i)\n",
    "    else: print('nao e acao')"
   ]
  }
 ],
 "metadata": {
  "kernelspec": {
   "display_name": "Python 3",
   "language": "python",
   "name": "python3"
  },
  "language_info": {
   "codemirror_mode": {
    "name": "ipython",
    "version": 3
   },
   "file_extension": ".py",
   "mimetype": "text/x-python",
   "name": "python",
   "nbconvert_exporter": "python",
   "pygments_lexer": "ipython3",
   "version": "3.6.4"
  }
 },
 "nbformat": 4,
 "nbformat_minor": 2
}
